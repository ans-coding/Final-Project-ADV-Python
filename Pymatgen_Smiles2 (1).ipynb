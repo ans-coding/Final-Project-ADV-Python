{
 "cells": [
  {
   "cell_type": "code",
   "execution_count": 1,
   "id": "b21576c0-287c-4058-9e29-c40c0a40f5f7",
   "metadata": {},
   "outputs": [
    {
     "ename": "ModuleNotFoundError",
     "evalue": "No module named 'pymatgen'",
     "output_type": "error",
     "traceback": [
      "\u001b[1;31m---------------------------------------------------------------------------\u001b[0m",
      "\u001b[1;31mModuleNotFoundError\u001b[0m                       Traceback (most recent call last)",
      "\u001b[1;32m~\\AppData\\Local\\Temp\\ipykernel_9892\\3135606046.py\u001b[0m in \u001b[0;36m<module>\u001b[1;34m\u001b[0m\n\u001b[1;32m----> 1\u001b[1;33m \u001b[1;32mfrom\u001b[0m \u001b[0mpymatgen\u001b[0m\u001b[1;33m.\u001b[0m\u001b[0mext\u001b[0m\u001b[1;33m.\u001b[0m\u001b[0mmatproj\u001b[0m \u001b[1;32mimport\u001b[0m \u001b[0mMPRester\u001b[0m\u001b[1;33m\u001b[0m\u001b[1;33m\u001b[0m\u001b[0m\n\u001b[0m\u001b[0;32m      2\u001b[0m \u001b[1;32mfrom\u001b[0m \u001b[0mpymatgen\u001b[0m\u001b[1;33m.\u001b[0m\u001b[0mcore\u001b[0m \u001b[1;32mimport\u001b[0m \u001b[0mLattice\u001b[0m\u001b[1;33m,\u001b[0m \u001b[0mStructure\u001b[0m\u001b[1;33m,\u001b[0m \u001b[0mMolecule\u001b[0m\u001b[1;33m\u001b[0m\u001b[1;33m\u001b[0m\u001b[0m\n\u001b[0;32m      3\u001b[0m \u001b[1;32mfrom\u001b[0m \u001b[0mpprint\u001b[0m \u001b[1;32mimport\u001b[0m \u001b[0mpprint\u001b[0m\u001b[1;33m\u001b[0m\u001b[1;33m\u001b[0m\u001b[0m\n\u001b[0;32m      4\u001b[0m \u001b[1;32mimport\u001b[0m \u001b[0mpandas\u001b[0m \u001b[1;32mas\u001b[0m \u001b[0mpd\u001b[0m\u001b[1;33m\u001b[0m\u001b[1;33m\u001b[0m\u001b[0m\n\u001b[0;32m      5\u001b[0m \u001b[1;32mimport\u001b[0m \u001b[0mnumpy\u001b[0m \u001b[1;32mas\u001b[0m \u001b[0mnp\u001b[0m\u001b[1;33m\u001b[0m\u001b[1;33m\u001b[0m\u001b[0m\n",
      "\u001b[1;31mModuleNotFoundError\u001b[0m: No module named 'pymatgen'"
     ]
    }
   ],
   "source": [
    "from pymatgen.ext.matproj import MPRester \n",
    "from pymatgen.core import Lattice, Structure, Molecule\n",
    "from pprint import pprint\n",
    "import pandas as pd\n",
    "import numpy as np\n",
    "import ase #Atomic Simulation Environment\n",
    "import nglview as nv # creates 3d models of molecules\n",
    "from nglview import show_structure_file \n",
    "import pymatgen as mg\n",
    "mpr = MPRester('z3rOZDNgb0SKTPlw')"
   ]
  },
  {
   "cell_type": "code",
   "execution_count": 33,
   "id": "16b7999a-9809-406f-bc7c-fd4aa0fedaf8",
   "metadata": {},
   "outputs": [
    {
     "name": "stdin",
     "output_type": "stream",
     "text": [
      "Input a molecule of your choosing CO2\n"
     ]
    }
   ],
   "source": [
    "#allows user to input what molecule they want to see a model of\n",
    "inmolecule =input(\"Input a molecule of your choosing\")"
   ]
  },
  {
   "cell_type": "code",
   "execution_count": 34,
   "id": "866ff3f2",
   "metadata": {},
   "outputs": [],
   "source": [
    "#searches through Material project with the pretty formula/input and returns a list with dictionaries\n",
    "#defining task_id(id of a certain model of a molecule) as a specific task_id and defining the pretty formula with it.\n",
    "#It makes multiple dictionaries as there can be multiple models for a given formula/molecule\n",
    "data = mpr.query(criteria={\"pretty_formula\": inmolecule}, properties=[\"task_id\", \"pretty_formula\"])"
   ]
  },
  {
   "cell_type": "code",
   "execution_count": 35,
   "id": "8c964cc4",
   "metadata": {},
   "outputs": [
    {
     "data": {
      "text/plain": [
       "[{'task_id': 'mp-1102227', 'pretty_formula': 'CO2'},\n",
       " {'task_id': 'mp-995224', 'pretty_formula': 'CO2'},\n",
       " {'task_id': 'mp-1190685', 'pretty_formula': 'CO2'},\n",
       " {'task_id': 'mp-644607', 'pretty_formula': 'CO2'},\n",
       " {'task_id': 'mp-11725', 'pretty_formula': 'CO2'},\n",
       " {'task_id': 'mp-556034', 'pretty_formula': 'CO2'},\n",
       " {'task_id': 'mp-1190699', 'pretty_formula': 'CO2'},\n",
       " {'task_id': 'mp-1182086', 'pretty_formula': 'CO2'},\n",
       " {'task_id': 'mp-20066', 'pretty_formula': 'CO2'},\n",
       " {'task_id': 'mp-1077906', 'pretty_formula': 'CO2'},\n",
       " {'task_id': 'mp-1077316', 'pretty_formula': 'CO2'},\n",
       " {'task_id': 'mp-995198', 'pretty_formula': 'CO2'}]"
      ]
     },
     "execution_count": 35,
     "metadata": {},
     "output_type": "execute_result"
    }
   ],
   "source": [
    "data"
   ]
  },
  {
   "cell_type": "code",
   "execution_count": 36,
   "id": "668edf57",
   "metadata": {},
   "outputs": [
    {
     "data": {
      "text/plain": [
       "'mp-1102227'"
      ]
     },
     "execution_count": 36,
     "metadata": {},
     "output_type": "execute_result"
    }
   ],
   "source": [
    "#shows the first task id in the list\n",
    "data[0]['task_id']"
   ]
  },
  {
   "cell_type": "code",
   "execution_count": 37,
   "id": "07963403",
   "metadata": {},
   "outputs": [],
   "source": [
    "#chooses the first task id from the list and defines the task id variable as it\n",
    "#allowing us to make a model using this specific task id\n",
    "task_id=data[0]['task_id']"
   ]
  },
  {
   "cell_type": "code",
   "execution_count": 38,
   "id": "6cc36b50",
   "metadata": {},
   "outputs": [
    {
     "data": {
      "text/plain": [
       "'mp-1102227'"
      ]
     },
     "execution_count": 38,
     "metadata": {},
     "output_type": "execute_result"
    }
   ],
   "source": [
    "#shows the task id we will use to make the model\n",
    "task_id"
   ]
  },
  {
   "cell_type": "code",
   "execution_count": 39,
   "id": "e712bde1",
   "metadata": {
    "scrolled": true
   },
   "outputs": [
    {
     "name": "stdout",
     "output_type": "stream",
     "text": [
      "[Structure Summary\n",
      "Lattice\n",
      "    abc : 5.069311 5.069311 7.232025\n",
      " angles : 90.0 90.0 90.0\n",
      " volume : 185.84795660231265\n",
      "      A : 5.069311 0.0 0.0\n",
      "      B : 0.0 5.069311 0.0\n",
      "      C : 0.0 0.0 7.232025\n",
      "PeriodicSite: C (5.0125, 0.0568, 5.4240) [0.9888, 0.0112, 0.7500]\n",
      "PeriodicSite: C (0.0568, 5.0125, 1.8080) [0.0112, 0.9888, 0.2500]\n",
      "PeriodicSite: C (2.5915, 2.5915, 3.6160) [0.5112, 0.5112, 0.5000]\n",
      "PeriodicSite: C (2.4778, 2.4778, 0.0000) [0.4888, 0.4888, 0.0000]\n",
      "PeriodicSite: O (3.4217, 1.7621, 3.5630) [0.6750, 0.3476, 0.4927]\n",
      "PeriodicSite: O (1.6476, 3.3072, 7.1790) [0.3250, 0.6524, 0.9927]\n",
      "PeriodicSite: O (4.2968, 4.1823, 1.7550) [0.8476, 0.8250, 0.2427]\n",
      "PeriodicSite: O (0.7725, 0.8871, 5.3710) [0.1524, 0.1750, 0.7427]\n",
      "PeriodicSite: O (3.3072, 1.6476, 0.0530) [0.6524, 0.3250, 0.0073]\n",
      "PeriodicSite: O (1.7621, 3.4217, 3.6690) [0.3476, 0.6750, 0.5073]\n",
      "PeriodicSite: O (4.1823, 4.2968, 5.4770) [0.8250, 0.8476, 0.7573]\n",
      "PeriodicSite: O (0.8871, 0.7725, 1.8610) [0.1750, 0.1524, 0.2573]]\n"
     ]
    }
   ],
   "source": [
    "structure = mpr.get_structures(task_id)\n",
    "print(structure)"
   ]
  },
  {
   "cell_type": "code",
   "execution_count": 40,
   "id": "ee8315a4",
   "metadata": {},
   "outputs": [
    {
     "data": {
      "text/plain": [
       "[Structure Summary\n",
       " Lattice\n",
       "     abc : 5.069311 5.069311 7.232025\n",
       "  angles : 90.0 90.0 90.0\n",
       "  volume : 185.84795660231265\n",
       "       A : 5.069311 0.0 0.0\n",
       "       B : 0.0 5.069311 0.0\n",
       "       C : 0.0 0.0 7.232025\n",
       " PeriodicSite: C (5.0125, 0.0568, 5.4240) [0.9888, 0.0112, 0.7500]\n",
       " PeriodicSite: C (0.0568, 5.0125, 1.8080) [0.0112, 0.9888, 0.2500]\n",
       " PeriodicSite: C (2.5915, 2.5915, 3.6160) [0.5112, 0.5112, 0.5000]\n",
       " PeriodicSite: C (2.4778, 2.4778, 0.0000) [0.4888, 0.4888, 0.0000]\n",
       " PeriodicSite: O (3.4217, 1.7621, 3.5630) [0.6750, 0.3476, 0.4927]\n",
       " PeriodicSite: O (1.6476, 3.3072, 7.1790) [0.3250, 0.6524, 0.9927]\n",
       " PeriodicSite: O (4.2968, 4.1823, 1.7550) [0.8476, 0.8250, 0.2427]\n",
       " PeriodicSite: O (0.7725, 0.8871, 5.3710) [0.1524, 0.1750, 0.7427]\n",
       " PeriodicSite: O (3.3072, 1.6476, 0.0530) [0.6524, 0.3250, 0.0073]\n",
       " PeriodicSite: O (1.7621, 3.4217, 3.6690) [0.3476, 0.6750, 0.5073]\n",
       " PeriodicSite: O (4.1823, 4.2968, 5.4770) [0.8250, 0.8476, 0.7573]\n",
       " PeriodicSite: O (0.8871, 0.7725, 1.8610) [0.1750, 0.1524, 0.2573]]"
      ]
     },
     "execution_count": 40,
     "metadata": {},
     "output_type": "execute_result"
    }
   ],
   "source": [
    "structure"
   ]
  },
  {
   "cell_type": "code",
   "execution_count": 41,
   "id": "7b4d9ce3",
   "metadata": {},
   "outputs": [
    {
     "data": {
      "text/plain": [
       "'mp-1102227'"
      ]
     },
     "execution_count": 41,
     "metadata": {},
     "output_type": "execute_result"
    }
   ],
   "source": [
    "task_id"
   ]
  },
  {
   "cell_type": "code",
   "execution_count": 42,
   "id": "ab792ee7",
   "metadata": {},
   "outputs": [],
   "source": [
    "struct_cif2 = mpr.get_data(task_id, data_type='', prop=\"cif\")"
   ]
  },
  {
   "cell_type": "code",
   "execution_count": 43,
   "id": "0508712e",
   "metadata": {},
   "outputs": [
    {
     "name": "stdout",
     "output_type": "stream",
     "text": [
      "{'cif': \"# generated using pymatgen\\ndata_CO2\\n_symmetry_space_group_name_H-M   'P 1'\\n_cell_length_a   5.06931100\\n_cell_length_b   5.06931100\\n_cell_length_c   7.23202500\\n_cell_angle_alpha   90.00000000\\n_cell_angle_beta   90.00000000\\n_cell_angle_gamma   90.00000000\\n_symmetry_Int_Tables_number   1\\n_chemical_formula_structural   CO2\\n_chemical_formula_sum   'C4 O8'\\n_cell_volume   185.84795660\\n_cell_formula_units_Z   4\\nloop_\\n _symmetry_equiv_pos_site_id\\n _symmetry_equiv_pos_as_xyz\\n  1  'x, y, z'\\nloop_\\n _atom_site_type_symbol\\n _atom_site_label\\n _atom_site_symmetry_multiplicity\\n _atom_site_fract_x\\n _atom_site_fract_y\\n _atom_site_fract_z\\n _atom_site_occupancy\\n  C  C0  1  0.98879200  0.01120800  0.75000000  1\\n  C  C1  1  0.01120800  0.98879200  0.25000000  1\\n  C  C2  1  0.51120800  0.51120800  0.50000000  1\\n  C  C3  1  0.48879200  0.48879200  0.00000000  1\\n  O  O4  1  0.67498600  0.34760700  0.49267100  1\\n  O  O5  1  0.32501400  0.65239300  0.99267100  1\\n  O  O6  1  0.84760700  0.82501400  0.24267100  1\\n  O  O7  1  0.15239300  0.17498600  0.74267100  1\\n  O  O8  1  0.65239300  0.32501400  0.00732900  1\\n  O  O9  1  0.34760700  0.67498600  0.50732900  1\\n  O  O10  1  0.82501400  0.84760700  0.75732900  1\\n  O  O11  1  0.17498600  0.15239300  0.25732900  1\\n\", 'type': 'conventional_standard'}\n"
     ]
    }
   ],
   "source": [
    "print(struct_cif2)"
   ]
  },
  {
   "cell_type": "code",
   "execution_count": 44,
   "id": "02f7718e",
   "metadata": {},
   "outputs": [],
   "source": [
    "structure_cif2 = struct_cif2.get('cif')"
   ]
  },
  {
   "cell_type": "code",
   "execution_count": 45,
   "id": "50b75381",
   "metadata": {},
   "outputs": [
    {
     "name": "stdout",
     "output_type": "stream",
     "text": [
      "# generated using pymatgen\n",
      "data_CO2\n",
      "_symmetry_space_group_name_H-M   'P 1'\n",
      "_cell_length_a   5.06931100\n",
      "_cell_length_b   5.06931100\n",
      "_cell_length_c   7.23202500\n",
      "_cell_angle_alpha   90.00000000\n",
      "_cell_angle_beta   90.00000000\n",
      "_cell_angle_gamma   90.00000000\n",
      "_symmetry_Int_Tables_number   1\n",
      "_chemical_formula_structural   CO2\n",
      "_chemical_formula_sum   'C4 O8'\n",
      "_cell_volume   185.84795660\n",
      "_cell_formula_units_Z   4\n",
      "loop_\n",
      " _symmetry_equiv_pos_site_id\n",
      " _symmetry_equiv_pos_as_xyz\n",
      "  1  'x, y, z'\n",
      "loop_\n",
      " _atom_site_type_symbol\n",
      " _atom_site_label\n",
      " _atom_site_symmetry_multiplicity\n",
      " _atom_site_fract_x\n",
      " _atom_site_fract_y\n",
      " _atom_site_fract_z\n",
      " _atom_site_occupancy\n",
      "  C  C0  1  0.98879200  0.01120800  0.75000000  1\n",
      "  C  C1  1  0.01120800  0.98879200  0.25000000  1\n",
      "  C  C2  1  0.51120800  0.51120800  0.50000000  1\n",
      "  C  C3  1  0.48879200  0.48879200  0.00000000  1\n",
      "  O  O4  1  0.67498600  0.34760700  0.49267100  1\n",
      "  O  O5  1  0.32501400  0.65239300  0.99267100  1\n",
      "  O  O6  1  0.84760700  0.82501400  0.24267100  1\n",
      "  O  O7  1  0.15239300  0.17498600  0.74267100  1\n",
      "  O  O8  1  0.65239300  0.32501400  0.00732900  1\n",
      "  O  O9  1  0.34760700  0.67498600  0.50732900  1\n",
      "  O  O10  1  0.82501400  0.84760700  0.75732900  1\n",
      "  O  O11  1  0.17498600  0.15239300  0.25732900  1\n",
      "\n"
     ]
    }
   ],
   "source": [
    "print(structure_cif2)"
   ]
  },
  {
   "cell_type": "code",
   "execution_count": 46,
   "id": "ba648a0c",
   "metadata": {},
   "outputs": [],
   "source": [
    "with open(\"{}.cif\".format(task_id), \"w\") as output:\n",
    "    output.write(structure_cif2)"
   ]
  },
  {
   "cell_type": "code",
   "execution_count": 47,
   "id": "4e99da8b",
   "metadata": {},
   "outputs": [
    {
     "data": {
      "application/vnd.jupyter.widget-view+json": {
       "model_id": "5df10aefb50646fda173b73f4ef99710",
       "version_major": 2,
       "version_minor": 0
      },
      "text/plain": [
       "NGLWidget()"
      ]
     },
     "metadata": {},
     "output_type": "display_data"
    }
   ],
   "source": [
    "lattice = Lattice.cubic(1)\n",
    "view = nv.show_structure_file(\"{}.cif\".format(task_id))\n",
    "view"
   ]
  },
  {
   "cell_type": "code",
   "execution_count": null,
   "id": "e33e440f",
   "metadata": {},
   "outputs": [],
   "source": []
  }
 ],
 "metadata": {
  "kernelspec": {
   "display_name": "Python 3 (ipykernel)",
   "language": "python",
   "name": "python3"
  },
  "language_info": {
   "codemirror_mode": {
    "name": "ipython",
    "version": 3
   },
   "file_extension": ".py",
   "mimetype": "text/x-python",
   "name": "python",
   "nbconvert_exporter": "python",
   "pygments_lexer": "ipython3",
   "version": "3.7.13"
  }
 },
 "nbformat": 4,
 "nbformat_minor": 5
}
