{
 "cells": [
  {
   "cell_type": "code",
   "execution_count": 72,
   "id": "b21576c0-287c-4058-9e29-c40c0a40f5f7",
   "metadata": {},
   "outputs": [],
   "source": [
    "from pymatgen.ext.matproj import MPRester\n",
    "from pymatgen.core import Lattice, Structure, Molecule\n",
    "from pprint import pprint\n",
    "import pandas as pd\n",
    "import numpy as np\n",
    "import matplotlib.pyplot as plt\n",
    "import ase\n",
    "import nglview as nv\n",
    "from nglview import show_structure_file\n",
    "import pymatgen as mg\n",
    "mpr = MPRester('z3rOZDNgb0SKTPlw')"
   ]
  },
  {
   "cell_type": "code",
   "execution_count": 94,
   "id": "16b7999a-9809-406f-bc7c-fd4aa0fedaf8",
   "metadata": {},
   "outputs": [
    {
     "name": "stdout",
     "output_type": "stream",
     "text": [
      "Input a molecule of your choosingCO2\n"
     ]
    }
   ],
   "source": [
    "inmolecule =input(\"Input a molecule of your choosing\")"
   ]
  },
  {
   "cell_type": "code",
   "execution_count": 95,
   "id": "b75dc987",
   "metadata": {},
   "outputs": [
    {
     "data": {
      "text/plain": [
       "'CO2'"
      ]
     },
     "execution_count": 95,
     "metadata": {},
     "output_type": "execute_result"
    }
   ],
   "source": [
    "inmolecule"
   ]
  },
  {
   "cell_type": "code",
   "execution_count": 96,
   "id": "866ff3f2",
   "metadata": {},
   "outputs": [],
   "source": [
    "data = mpr.query(criteria={\"pretty_formula\": inmolecule}, properties=[\"task_id\", \"pretty_formula\"])"
   ]
  },
  {
   "cell_type": "code",
   "execution_count": 97,
   "id": "8c964cc4",
   "metadata": {},
   "outputs": [
    {
     "data": {
      "text/plain": [
       "[{'task_id': 'mp-1102227', 'pretty_formula': 'CO2'},\n",
       " {'task_id': 'mp-995224', 'pretty_formula': 'CO2'},\n",
       " {'task_id': 'mp-1190685', 'pretty_formula': 'CO2'},\n",
       " {'task_id': 'mp-644607', 'pretty_formula': 'CO2'},\n",
       " {'task_id': 'mp-11725', 'pretty_formula': 'CO2'},\n",
       " {'task_id': 'mp-556034', 'pretty_formula': 'CO2'},\n",
       " {'task_id': 'mp-1190699', 'pretty_formula': 'CO2'},\n",
       " {'task_id': 'mp-1182086', 'pretty_formula': 'CO2'},\n",
       " {'task_id': 'mp-20066', 'pretty_formula': 'CO2'},\n",
       " {'task_id': 'mp-1077906', 'pretty_formula': 'CO2'},\n",
       " {'task_id': 'mp-1077316', 'pretty_formula': 'CO2'},\n",
       " {'task_id': 'mp-995198', 'pretty_formula': 'CO2'}]"
      ]
     },
     "execution_count": 97,
     "metadata": {},
     "output_type": "execute_result"
    }
   ],
   "source": [
    "data"
   ]
  },
  {
   "cell_type": "code",
   "execution_count": 85,
   "id": "668edf57",
   "metadata": {},
   "outputs": [
    {
     "data": {
      "text/plain": [
       "'mp-705416'"
      ]
     },
     "execution_count": 85,
     "metadata": {},
     "output_type": "execute_result"
    }
   ],
   "source": [
    "data[0]['task_id']"
   ]
  },
  {
   "cell_type": "code",
   "execution_count": 98,
   "id": "07963403",
   "metadata": {},
   "outputs": [],
   "source": [
    "task_id=data[0]['task_id']"
   ]
  },
  {
   "cell_type": "code",
   "execution_count": 36,
   "id": "909d7a35-5f54-4a68-9da2-d6f84e848c4b",
   "metadata": {},
   "outputs": [],
   "source": [
    "#task_id = mpr.query(\"H4C\", ['task_id'])\n",
    "#task_id = mpr.get_data(inmolecule, ['task_id'])"
   ]
  },
  {
   "cell_type": "code",
   "execution_count": 99,
   "id": "6cc36b50",
   "metadata": {},
   "outputs": [
    {
     "data": {
      "text/plain": [
       "'mp-1102227'"
      ]
     },
     "execution_count": 99,
     "metadata": {},
     "output_type": "execute_result"
    }
   ],
   "source": [
    "task_id"
   ]
  },
  {
   "cell_type": "code",
   "execution_count": 100,
   "id": "e712bde1",
   "metadata": {
    "scrolled": true
   },
   "outputs": [
    {
     "name": "stdout",
     "output_type": "stream",
     "text": [
      "[Structure Summary\n",
      "Lattice\n",
      "    abc : 5.069311 5.069311 7.232025\n",
      " angles : 90.0 90.0 90.0\n",
      " volume : 185.84795660231265\n",
      "      A : 5.069311 0.0 0.0\n",
      "      B : 0.0 5.069311 0.0\n",
      "      C : 0.0 0.0 7.232025\n",
      "    pbc : True True True\n",
      "PeriodicSite: C (5.0125, 0.0568, 5.4240) [0.9888, 0.0112, 0.7500]\n",
      "PeriodicSite: C (0.0568, 5.0125, 1.8080) [0.0112, 0.9888, 0.2500]\n",
      "PeriodicSite: C (2.5915, 2.5915, 3.6160) [0.5112, 0.5112, 0.5000]\n",
      "PeriodicSite: C (2.4778, 2.4778, 0.0000) [0.4888, 0.4888, 0.0000]\n",
      "PeriodicSite: O (3.4217, 1.7621, 3.5630) [0.6750, 0.3476, 0.4927]\n",
      "PeriodicSite: O (1.6476, 3.3072, 7.1790) [0.3250, 0.6524, 0.9927]\n",
      "PeriodicSite: O (4.2968, 4.1823, 1.7550) [0.8476, 0.8250, 0.2427]\n",
      "PeriodicSite: O (0.7725, 0.8871, 5.3710) [0.1524, 0.1750, 0.7427]\n",
      "PeriodicSite: O (3.3072, 1.6476, 0.0530) [0.6524, 0.3250, 0.0073]\n",
      "PeriodicSite: O (1.7621, 3.4217, 3.6690) [0.3476, 0.6750, 0.5073]\n",
      "PeriodicSite: O (4.1823, 4.2968, 5.4770) [0.8250, 0.8476, 0.7573]\n",
      "PeriodicSite: O (0.8871, 0.7725, 1.8610) [0.1750, 0.1524, 0.2573]]\n"
     ]
    }
   ],
   "source": [
    "structure = mpr.get_structures(task_id)\n",
    "print(structure)"
   ]
  },
  {
   "cell_type": "code",
   "execution_count": 102,
   "id": "5690133f",
   "metadata": {},
   "outputs": [
    {
     "ename": "AttributeError",
     "evalue": "'list' object has no attribute 'species'",
     "output_type": "error",
     "traceback": [
      "\u001b[1;31m---------------------------------------------------------------------------\u001b[0m",
      "\u001b[1;31mAttributeError\u001b[0m                            Traceback (most recent call last)",
      "\u001b[1;32m<ipython-input-102-21f0decd26a2>\u001b[0m in \u001b[0;36m<module>\u001b[1;34m\u001b[0m\n\u001b[1;32m----> 1\u001b[1;33m \u001b[0mstructure\u001b[0m\u001b[1;33m.\u001b[0m\u001b[0mspecies\u001b[0m\u001b[1;33m\u001b[0m\u001b[1;33m\u001b[0m\u001b[0m\n\u001b[0m",
      "\u001b[1;31mAttributeError\u001b[0m: 'list' object has no attribute 'species'"
     ]
    }
   ],
   "source": [
    "structure.species"
   ]
  },
  {
   "cell_type": "code",
   "execution_count": 88,
   "id": "2577a387",
   "metadata": {},
   "outputs": [],
   "source": [
    "d = list(structure)"
   ]
  },
  {
   "cell_type": "code",
   "execution_count": 89,
   "id": "bae11093",
   "metadata": {},
   "outputs": [
    {
     "data": {
      "text/plain": [
       "[Structure Summary\n",
       " Lattice\n",
       "     abc : 5.923972 6.61708 16.132684\n",
       "  angles : 90.0 90.0 90.0\n",
       "  volume : 632.3914790121753\n",
       "       A : 5.923972 0.0 0.0\n",
       "       B : 0.0 6.61708 0.0\n",
       "       C : 0.0 0.0 16.132684\n",
       "     pbc : True True True\n",
       " PeriodicSite: Fe (4.5465, 1.6543, 9.6434) [0.7675, 0.2500, 0.5978]\n",
       " PeriodicSite: Fe (4.3628, 1.6543, 2.5007) [0.7365, 0.2500, 0.1550]\n",
       " PeriodicSite: Fe (3.0240, 4.9628, 2.3744) [0.5105, 0.7500, 0.1472]\n",
       " PeriodicSite: Fe (1.5612, 4.9628, 13.6320) [0.2635, 0.7500, 0.8450]\n",
       " PeriodicSite: Fe (5.8105, 4.9628, 9.7016) [0.9808, 0.7500, 0.6014]\n",
       " PeriodicSite: Fe (4.3628, 4.9628, 5.5656) [0.7365, 0.7500, 0.3450]\n",
       " PeriodicSite: Fe (0.3825, 3.3085, 4.0332) [0.0646, 0.5000, 0.2500]\n",
       " PeriodicSite: Fe (4.5465, 4.9628, 14.5557) [0.7675, 0.7500, 0.9022]\n",
       " PeriodicSite: Fe (2.9000, 4.9628, 10.4407) [0.4895, 0.7500, 0.6472]\n",
       " PeriodicSite: Fe (3.0240, 1.6543, 5.6920) [0.5105, 0.2500, 0.3528]\n",
       " PeriodicSite: Fe (2.9620, 3.3085, 8.0663) [0.5000, 0.5000, 0.5000]\n",
       " PeriodicSite: Fe (5.5415, 3.3085, 12.0995) [0.9354, 0.5000, 0.7500]\n",
       " PeriodicSite: Fe (2.9620, 0.0000, 8.0663) [0.5000, 0.0000, 0.5000]\n",
       " PeriodicSite: Fe (1.3775, 4.9628, 6.4893) [0.2325, 0.7500, 0.4022]\n",
       " PeriodicSite: Fe (1.3775, 1.6543, 1.5770) [0.2325, 0.2500, 0.0978]\n",
       " PeriodicSite: Fe (5.5415, 0.0000, 12.0995) [0.9354, 0.0000, 0.7500]\n",
       " PeriodicSite: Fe (0.1135, 4.9628, 1.6353) [0.0192, 0.7500, 0.1014]\n",
       " PeriodicSite: Fe (0.3825, 0.0000, 4.0332) [0.0646, 0.0000, 0.2500]\n",
       " PeriodicSite: Fe (2.9620, 0.0000, 0.0000) [0.5000, 0.0000, 0.0000]\n",
       " PeriodicSite: Fe (5.8105, 1.6543, 14.4974) [0.9808, 0.2500, 0.8986]\n",
       " PeriodicSite: Fe (1.5612, 1.6543, 10.5670) [0.2635, 0.2500, 0.6550]\n",
       " PeriodicSite: Fe (0.1135, 1.6543, 6.4310) [0.0192, 0.2500, 0.3986]\n",
       " PeriodicSite: Fe (2.9000, 1.6543, 13.7583) [0.4895, 0.2500, 0.8528]\n",
       " PeriodicSite: Fe (2.9620, 3.3085, 0.0000) [0.5000, 0.5000, 0.0000]\n",
       " PeriodicSite: O (5.8733, 3.6511, 6.0507) [0.9914, 0.5518, 0.3751]\n",
       " PeriodicSite: O (4.1745, 1.6543, 15.5784) [0.7047, 0.2500, 0.9656]\n",
       " PeriodicSite: O (1.4299, 4.9628, 3.4176) [0.2414, 0.7500, 0.2118]\n",
       " PeriodicSite: O (2.9985, 3.6701, 14.0765) [0.5062, 0.5546, 0.8725]\n",
       " PeriodicSite: O (5.8733, 2.9660, 2.0156) [0.9914, 0.4482, 0.1249]\n",
       " PeriodicSite: O (1.7494, 4.9628, 0.5543) [0.2953, 0.7500, 0.0344]\n",
       " PeriodicSite: O (5.8733, 6.2745, 6.0507) [0.9914, 0.9482, 0.3751]\n",
       " PeriodicSite: O (4.6158, 1.6543, 4.4556) [0.7792, 0.2500, 0.2762]\n",
       " PeriodicSite: O (4.4940, 4.9628, 11.4840) [0.7586, 0.7500, 0.7118]\n",
       " PeriodicSite: O (4.4940, 1.6543, 12.7151) [0.7586, 0.2500, 0.7882]\n",
       " PeriodicSite: O (4.4369, 1.6543, 7.6472) [0.7490, 0.2500, 0.4740]\n",
       " PeriodicSite: O (2.9254, 3.6701, 6.0102) [0.4938, 0.5546, 0.3725]\n",
       " PeriodicSite: O (2.9985, 0.3616, 10.1225) [0.5062, 0.0546, 0.6275]\n",
       " PeriodicSite: O (0.0507, 3.6511, 14.1171) [0.0086, 0.5518, 0.8751]\n",
       " PeriodicSite: O (1.3082, 4.9628, 11.6771) [0.2208, 0.7500, 0.7238]\n",
       " PeriodicSite: O (1.7494, 1.6543, 7.5121) [0.2953, 0.2500, 0.4656]\n",
       " PeriodicSite: O (1.4871, 1.6543, 15.7136) [0.2510, 0.2500, 0.9740]\n",
       " PeriodicSite: O (4.1745, 4.9628, 8.6206) [0.7047, 0.7500, 0.5344]\n",
       " PeriodicSite: O (2.9254, 6.2555, 6.0102) [0.4938, 0.9454, 0.3725]\n",
       " PeriodicSite: O (0.0507, 6.2745, 14.1171) [0.0086, 0.9482, 0.8751]\n",
       " PeriodicSite: O (0.0507, 2.9660, 10.0820) [0.0086, 0.4482, 0.6249]\n",
       " PeriodicSite: O (0.0507, 0.3426, 10.0820) [0.0086, 0.0518, 0.6249]\n",
       " PeriodicSite: O (4.4369, 4.9628, 0.4191) [0.7490, 0.7500, 0.0260]\n",
       " PeriodicSite: O (2.9985, 6.2555, 14.0765) [0.5062, 0.9454, 0.8725]\n",
       " PeriodicSite: O (2.9254, 0.3616, 2.0562) [0.4938, 0.0546, 0.1275]\n",
       " PeriodicSite: O (1.4871, 4.9628, 8.4854) [0.2510, 0.7500, 0.5260]\n",
       " PeriodicSite: O (1.3082, 1.6543, 12.5219) [0.2208, 0.2500, 0.7762]\n",
       " PeriodicSite: O (2.9985, 2.9470, 10.1225) [0.5062, 0.4454, 0.6275]\n",
       " PeriodicSite: O (5.8733, 0.3426, 2.0156) [0.9914, 0.0518, 0.1249]\n",
       " PeriodicSite: O (4.6158, 4.9628, 3.6107) [0.7792, 0.7500, 0.2238]\n",
       " PeriodicSite: O (1.4299, 1.6543, 4.6487) [0.2414, 0.2500, 0.2882]\n",
       " PeriodicSite: O (2.9254, 2.9470, 2.0562) [0.4938, 0.4454, 0.1275]]"
      ]
     },
     "execution_count": 89,
     "metadata": {},
     "output_type": "execute_result"
    }
   ],
   "source": [
    "d"
   ]
  },
  {
   "cell_type": "code",
   "execution_count": 90,
   "id": "17c3afba-5ff1-4e42-bdea-1d319b5f4a37",
   "metadata": {},
   "outputs": [],
   "source": [
    "coords = [[0, 0, 0], [0.75,0.5,0.75]]\n",
    "lattice = Lattice.from_parameters(a=3.84, b=3.84, c=3.84, alpha=120,\n",
    "                                  beta=90, gamma=60)\n",
    "struct = structure\n",
    "\n",
    "coords = [[0.000000, 0.000000, 0.000000],\n",
    "          [0.000000, 0.000000, 1.089000],\n",
    "          [1.026719, 0.000000, -0.363000],\n",
    "          [-0.513360, -0.889165, -0.363000],\n",
    "          [-0.513360, 0.889165, -0.363000]]\n",
    "methane = Molecule([\"C\", \"H\", \"H\", \"H\", \"H\"], coords)"
   ]
  },
  {
   "cell_type": "code",
   "execution_count": 44,
   "id": "bbe956b7-6e57-4de6-af47-ea985a85dd15",
   "metadata": {},
   "outputs": [
    {
     "name": "stdout",
     "output_type": "stream",
     "text": [
      "Full Formula (H4 C1)\n",
      "Reduced Formula: H4C\n",
      "Charge = 0.0, Spin Mult = 1\n",
      "Sites (5)\n",
      "0 C     0.000000     0.000000     0.000000\n",
      "1 H     0.000000     0.000000     1.089000\n",
      "2 H     1.026719     0.000000    -0.363000\n",
      "3 H    -0.513360    -0.889165    -0.363000\n",
      "4 H    -0.513360     0.889165    -0.363000\n"
     ]
    }
   ],
   "source": [
    "print(methane)"
   ]
  },
  {
   "cell_type": "code",
   "execution_count": 47,
   "id": "ee8315a4",
   "metadata": {},
   "outputs": [
    {
     "data": {
      "text/plain": [
       "[Structure Summary\n",
       " Lattice\n",
       "     abc : 5.069311 5.069311 7.232025\n",
       "  angles : 90.0 90.0 90.0\n",
       "  volume : 185.84795660231265\n",
       "       A : 5.069311 0.0 0.0\n",
       "       B : 0.0 5.069311 0.0\n",
       "       C : 0.0 0.0 7.232025\n",
       "     pbc : True True True\n",
       " PeriodicSite: C (5.0125, 0.0568, 5.4240) [0.9888, 0.0112, 0.7500]\n",
       " PeriodicSite: C (0.0568, 5.0125, 1.8080) [0.0112, 0.9888, 0.2500]\n",
       " PeriodicSite: C (2.5915, 2.5915, 3.6160) [0.5112, 0.5112, 0.5000]\n",
       " PeriodicSite: C (2.4778, 2.4778, 0.0000) [0.4888, 0.4888, 0.0000]\n",
       " PeriodicSite: O (3.4217, 1.7621, 3.5630) [0.6750, 0.3476, 0.4927]\n",
       " PeriodicSite: O (1.6476, 3.3072, 7.1790) [0.3250, 0.6524, 0.9927]\n",
       " PeriodicSite: O (4.2968, 4.1823, 1.7550) [0.8476, 0.8250, 0.2427]\n",
       " PeriodicSite: O (0.7725, 0.8871, 5.3710) [0.1524, 0.1750, 0.7427]\n",
       " PeriodicSite: O (3.3072, 1.6476, 0.0530) [0.6524, 0.3250, 0.0073]\n",
       " PeriodicSite: O (1.7621, 3.4217, 3.6690) [0.3476, 0.6750, 0.5073]\n",
       " PeriodicSite: O (4.1823, 4.2968, 5.4770) [0.8250, 0.8476, 0.7573]\n",
       " PeriodicSite: O (0.8871, 0.7725, 1.8610) [0.1750, 0.1524, 0.2573]]"
      ]
     },
     "execution_count": 47,
     "metadata": {},
     "output_type": "execute_result"
    }
   ],
   "source": [
    "struct"
   ]
  },
  {
   "cell_type": "code",
   "execution_count": 103,
   "id": "478e43fc",
   "metadata": {},
   "outputs": [],
   "source": [
    "struct = Structure(lattice, [\"C\", \"H\", \"H\", \"H\", \"H\"], coords)"
   ]
  },
  {
   "cell_type": "code",
   "execution_count": 104,
   "id": "6179f738",
   "metadata": {
    "scrolled": true
   },
   "outputs": [
    {
     "data": {
      "text/plain": [
       "Structure Summary\n",
       "Lattice\n",
       "    abc : 1.0 1.0 1.0\n",
       " angles : 90.0 90.0 90.0\n",
       " volume : 1.0\n",
       "      A : 1.0 0.0 0.0\n",
       "      B : 0.0 1.0 0.0\n",
       "      C : 0.0 0.0 1.0\n",
       "    pbc : True True True\n",
       "PeriodicSite: C (0.0000, 0.0000, 0.0000) [0.0000, 0.0000, 0.0000]\n",
       "PeriodicSite: H (0.0000, 0.0000, 1.0890) [0.0000, 0.0000, 1.0890]\n",
       "PeriodicSite: H (1.0267, 0.0000, -0.3630) [1.0267, 0.0000, -0.3630]\n",
       "PeriodicSite: H (-0.5134, -0.8892, -0.3630) [-0.5134, -0.8892, -0.3630]\n",
       "PeriodicSite: H (-0.5134, 0.8892, -0.3630) [-0.5134, 0.8892, -0.3630]"
      ]
     },
     "execution_count": 104,
     "metadata": {},
     "output_type": "execute_result"
    }
   ],
   "source": [
    "struct"
   ]
  },
  {
   "cell_type": "code",
   "execution_count": 105,
   "id": "e5efffeb",
   "metadata": {},
   "outputs": [
    {
     "data": {
      "text/plain": [
       "[Element C, Element H, Element H, Element H, Element H]"
      ]
     },
     "execution_count": 105,
     "metadata": {},
     "output_type": "execute_result"
    }
   ],
   "source": [
    "struct.species"
   ]
  },
  {
   "cell_type": "code",
   "execution_count": 93,
   "id": "de459b70-1875-4bb1-a848-6a8596ca0434",
   "metadata": {
    "scrolled": true
   },
   "outputs": [
    {
     "ename": "AttributeError",
     "evalue": "'list' object has no attribute 'is_ordered'",
     "output_type": "error",
     "traceback": [
      "\u001b[1;31m---------------------------------------------------------------------------\u001b[0m",
      "\u001b[1;31mAttributeError\u001b[0m                            Traceback (most recent call last)",
      "\u001b[1;32m<ipython-input-93-175774822af3>\u001b[0m in \u001b[0;36m<module>\u001b[1;34m\u001b[0m\n\u001b[0;32m      1\u001b[0m \u001b[0mlattice\u001b[0m \u001b[1;33m=\u001b[0m \u001b[0mLattice\u001b[0m\u001b[1;33m.\u001b[0m\u001b[0mcubic\u001b[0m\u001b[1;33m(\u001b[0m\u001b[1;36m1\u001b[0m\u001b[1;33m)\u001b[0m\u001b[1;33m\u001b[0m\u001b[1;33m\u001b[0m\u001b[0m\n\u001b[0;32m      2\u001b[0m \u001b[1;31m#struct = Structure(lattice, [\"C\", \"H\", \"H\", \"H\", \"H\"], coords)\u001b[0m\u001b[1;33m\u001b[0m\u001b[1;33m\u001b[0m\u001b[1;33m\u001b[0m\u001b[0m\n\u001b[1;32m----> 3\u001b[1;33m \u001b[0mview\u001b[0m \u001b[1;33m=\u001b[0m \u001b[0mnv\u001b[0m\u001b[1;33m.\u001b[0m\u001b[0mshow_pymatgen\u001b[0m\u001b[1;33m(\u001b[0m\u001b[0mstruct\u001b[0m\u001b[1;33m)\u001b[0m\u001b[1;33m\u001b[0m\u001b[1;33m\u001b[0m\u001b[0m\n\u001b[0m\u001b[0;32m      4\u001b[0m \u001b[0mview\u001b[0m\u001b[1;33m\u001b[0m\u001b[1;33m\u001b[0m\u001b[0m\n",
      "\u001b[1;32mD:\\anaconda3\\lib\\site-packages\\nglview\\show.py\u001b[0m in \u001b[0;36mshow_pymatgen\u001b[1;34m(struct, **kwargs)\u001b[0m\n\u001b[0;32m    155\u001b[0m     \"\"\"\n\u001b[0;32m    156\u001b[0m     \u001b[1;32mfrom\u001b[0m \u001b[0mpymatgen\u001b[0m\u001b[1;33m.\u001b[0m\u001b[0mio\u001b[0m\u001b[1;33m.\u001b[0m\u001b[0mase\u001b[0m \u001b[1;32mimport\u001b[0m \u001b[0mAseAtomsAdaptor\u001b[0m\u001b[1;33m\u001b[0m\u001b[1;33m\u001b[0m\u001b[0m\n\u001b[1;32m--> 157\u001b[1;33m     \u001b[1;32mreturn\u001b[0m \u001b[0mshow_ase\u001b[0m\u001b[1;33m(\u001b[0m\u001b[0mAseAtomsAdaptor\u001b[0m\u001b[1;33m(\u001b[0m\u001b[1;33m)\u001b[0m\u001b[1;33m.\u001b[0m\u001b[0mget_atoms\u001b[0m\u001b[1;33m(\u001b[0m\u001b[0mstruct\u001b[0m\u001b[1;33m)\u001b[0m\u001b[1;33m)\u001b[0m\u001b[1;33m\u001b[0m\u001b[1;33m\u001b[0m\u001b[0m\n\u001b[0m\u001b[0;32m    158\u001b[0m \u001b[1;33m\u001b[0m\u001b[0m\n\u001b[0;32m    159\u001b[0m \u001b[1;33m\u001b[0m\u001b[0m\n",
      "\u001b[1;32mD:\\anaconda3\\lib\\site-packages\\pymatgen\\io\\ase.py\u001b[0m in \u001b[0;36mget_atoms\u001b[1;34m(structure, **kwargs)\u001b[0m\n\u001b[0;32m     49\u001b[0m             \u001b[0mASE\u001b[0m \u001b[0mAtoms\u001b[0m \u001b[0mobject\u001b[0m\u001b[1;33m\u001b[0m\u001b[1;33m\u001b[0m\u001b[0m\n\u001b[0;32m     50\u001b[0m         \"\"\"\n\u001b[1;32m---> 51\u001b[1;33m         \u001b[1;32mif\u001b[0m \u001b[1;32mnot\u001b[0m \u001b[0mstructure\u001b[0m\u001b[1;33m.\u001b[0m\u001b[0mis_ordered\u001b[0m\u001b[1;33m:\u001b[0m\u001b[1;33m\u001b[0m\u001b[1;33m\u001b[0m\u001b[0m\n\u001b[0m\u001b[0;32m     52\u001b[0m             \u001b[1;32mraise\u001b[0m \u001b[0mValueError\u001b[0m\u001b[1;33m(\u001b[0m\u001b[1;34m\"ASE Atoms only supports ordered structures\"\u001b[0m\u001b[1;33m)\u001b[0m\u001b[1;33m\u001b[0m\u001b[1;33m\u001b[0m\u001b[0m\n\u001b[0;32m     53\u001b[0m         \u001b[1;32mif\u001b[0m \u001b[1;32mnot\u001b[0m \u001b[0mase_loaded\u001b[0m\u001b[1;33m:\u001b[0m\u001b[1;33m\u001b[0m\u001b[1;33m\u001b[0m\u001b[0m\n",
      "\u001b[1;31mAttributeError\u001b[0m: 'list' object has no attribute 'is_ordered'"
     ]
    }
   ],
   "source": [
    "lattice = Lattice.cubic(1)\n",
    "#struct = Structure(lattice, [\"C\", \"H\", \"H\", \"H\", \"H\"], coords)\n",
    "view = nv.show_pymatgen(struct)\n",
    "view"
   ]
  },
  {
   "cell_type": "code",
   "execution_count": 108,
   "id": "df209bb3-de57-4b5c-b45a-72860c8e854d",
   "metadata": {},
   "outputs": [
    {
     "ename": "TypeError",
     "evalue": "query() got an unexpected keyword argument 'data_type'",
     "output_type": "error",
     "traceback": [
      "\u001b[1;31m---------------------------------------------------------------------------\u001b[0m",
      "\u001b[1;31mTypeError\u001b[0m                                 Traceback (most recent call last)",
      "\u001b[1;32m<ipython-input-108-bf06c912c462>\u001b[0m in \u001b[0;36m<module>\u001b[1;34m\u001b[0m\n\u001b[1;32m----> 1\u001b[1;33m \u001b[0mstruct_cif\u001b[0m \u001b[1;33m=\u001b[0m \u001b[0mmpr\u001b[0m\u001b[1;33m.\u001b[0m\u001b[0mquery\u001b[0m\u001b[1;33m(\u001b[0m\u001b[0mcriteria\u001b[0m\u001b[1;33m=\u001b[0m\u001b[1;33m{\u001b[0m\u001b[1;34m\"pretty_formula\"\u001b[0m\u001b[1;33m:\u001b[0m \u001b[0minmolecule\u001b[0m\u001b[1;33m}\u001b[0m\u001b[1;33m,\u001b[0m \u001b[0mdata_type\u001b[0m\u001b[1;33m=\u001b[0m\u001b[1;34m''\u001b[0m\u001b[1;33m,\u001b[0m \u001b[0mproperties\u001b[0m\u001b[1;33m=\u001b[0m\u001b[1;34m\"cif\"\u001b[0m\u001b[1;33m)\u001b[0m\u001b[1;33m\u001b[0m\u001b[1;33m\u001b[0m\u001b[0m\n\u001b[0m",
      "\u001b[1;31mTypeError\u001b[0m: query() got an unexpected keyword argument 'data_type'"
     ]
    }
   ],
   "source": [
    "struct_cif = mpr.query(criteria={\"pretty_formula\": inmolecule}, data_type='', properties=\"cif\")"
   ]
  },
  {
   "cell_type": "code",
   "execution_count": 109,
   "id": "7b4d9ce3",
   "metadata": {},
   "outputs": [
    {
     "data": {
      "text/plain": [
       "'mp-1102227'"
      ]
     },
     "execution_count": 109,
     "metadata": {},
     "output_type": "execute_result"
    }
   ],
   "source": [
    "task_id"
   ]
  },
  {
   "cell_type": "code",
   "execution_count": 111,
   "id": "9721c524",
   "metadata": {},
   "outputs": [
    {
     "data": {
      "text/plain": [
       "[{'c': None, 'i': None, 'f': None},\n",
       " {'c': None, 'i': None, 'f': None},\n",
       " {'c': None, 'i': None, 'f': None},\n",
       " {'c': None, 'i': None, 'f': None},\n",
       " {'c': None, 'i': None, 'f': None},\n",
       " {'c': None, 'i': None, 'f': None},\n",
       " {'c': None, 'i': None, 'f': None},\n",
       " {'c': None, 'i': None, 'f': None},\n",
       " {'c': None, 'i': None, 'f': None},\n",
       " {'c': None, 'i': None, 'f': None},\n",
       " {'c': None, 'i': None, 'f': None},\n",
       " {'c': None, 'i': None, 'f': None}]"
      ]
     },
     "execution_count": 111,
     "metadata": {},
     "output_type": "execute_result"
    }
   ],
   "source": [
    "struct_cif"
   ]
  },
  {
   "cell_type": "code",
   "execution_count": 112,
   "id": "ab792ee7",
   "metadata": {},
   "outputs": [],
   "source": [
    "struct_cif2 = mpr.get_data(task_id, data_type='', prop=\"cif\")"
   ]
  },
  {
   "cell_type": "code",
   "execution_count": 113,
   "id": "0508712e",
   "metadata": {},
   "outputs": [
    {
     "name": "stdout",
     "output_type": "stream",
     "text": [
      "{'cif': \"# generated using pymatgen\\ndata_CO2\\n_symmetry_space_group_name_H-M   'P 1'\\n_cell_length_a   5.06931100\\n_cell_length_b   5.06931100\\n_cell_length_c   7.23202500\\n_cell_angle_alpha   90.00000000\\n_cell_angle_beta   90.00000000\\n_cell_angle_gamma   90.00000000\\n_symmetry_Int_Tables_number   1\\n_chemical_formula_structural   CO2\\n_chemical_formula_sum   'C4 O8'\\n_cell_volume   185.84795660\\n_cell_formula_units_Z   4\\nloop_\\n _symmetry_equiv_pos_site_id\\n _symmetry_equiv_pos_as_xyz\\n  1  'x, y, z'\\nloop_\\n _atom_site_type_symbol\\n _atom_site_label\\n _atom_site_symmetry_multiplicity\\n _atom_site_fract_x\\n _atom_site_fract_y\\n _atom_site_fract_z\\n _atom_site_occupancy\\n  C  C0  1  0.98879200  0.01120800  0.75000000  1\\n  C  C1  1  0.01120800  0.98879200  0.25000000  1\\n  C  C2  1  0.51120800  0.51120800  0.50000000  1\\n  C  C3  1  0.48879200  0.48879200  0.00000000  1\\n  O  O4  1  0.67498600  0.34760700  0.49267100  1\\n  O  O5  1  0.32501400  0.65239300  0.99267100  1\\n  O  O6  1  0.84760700  0.82501400  0.24267100  1\\n  O  O7  1  0.15239300  0.17498600  0.74267100  1\\n  O  O8  1  0.65239300  0.32501400  0.00732900  1\\n  O  O9  1  0.34760700  0.67498600  0.50732900  1\\n  O  O10  1  0.82501400  0.84760700  0.75732900  1\\n  O  O11  1  0.17498600  0.15239300  0.25732900  1\\n\", 'type': 'conventional_standard'}\n"
     ]
    }
   ],
   "source": [
    "print(struct_cif2)"
   ]
  },
  {
   "cell_type": "code",
   "execution_count": 115,
   "id": "02f7718e",
   "metadata": {},
   "outputs": [],
   "source": [
    "structure_cif2 = struct_cif2.get('cif')"
   ]
  },
  {
   "cell_type": "code",
   "execution_count": 117,
   "id": "50b75381",
   "metadata": {},
   "outputs": [
    {
     "name": "stdout",
     "output_type": "stream",
     "text": [
      "# generated using pymatgen\n",
      "data_CO2\n",
      "_symmetry_space_group_name_H-M   'P 1'\n",
      "_cell_length_a   5.06931100\n",
      "_cell_length_b   5.06931100\n",
      "_cell_length_c   7.23202500\n",
      "_cell_angle_alpha   90.00000000\n",
      "_cell_angle_beta   90.00000000\n",
      "_cell_angle_gamma   90.00000000\n",
      "_symmetry_Int_Tables_number   1\n",
      "_chemical_formula_structural   CO2\n",
      "_chemical_formula_sum   'C4 O8'\n",
      "_cell_volume   185.84795660\n",
      "_cell_formula_units_Z   4\n",
      "loop_\n",
      " _symmetry_equiv_pos_site_id\n",
      " _symmetry_equiv_pos_as_xyz\n",
      "  1  'x, y, z'\n",
      "loop_\n",
      " _atom_site_type_symbol\n",
      " _atom_site_label\n",
      " _atom_site_symmetry_multiplicity\n",
      " _atom_site_fract_x\n",
      " _atom_site_fract_y\n",
      " _atom_site_fract_z\n",
      " _atom_site_occupancy\n",
      "  C  C0  1  0.98879200  0.01120800  0.75000000  1\n",
      "  C  C1  1  0.01120800  0.98879200  0.25000000  1\n",
      "  C  C2  1  0.51120800  0.51120800  0.50000000  1\n",
      "  C  C3  1  0.48879200  0.48879200  0.00000000  1\n",
      "  O  O4  1  0.67498600  0.34760700  0.49267100  1\n",
      "  O  O5  1  0.32501400  0.65239300  0.99267100  1\n",
      "  O  O6  1  0.84760700  0.82501400  0.24267100  1\n",
      "  O  O7  1  0.15239300  0.17498600  0.74267100  1\n",
      "  O  O8  1  0.65239300  0.32501400  0.00732900  1\n",
      "  O  O9  1  0.34760700  0.67498600  0.50732900  1\n",
      "  O  O10  1  0.82501400  0.84760700  0.75732900  1\n",
      "  O  O11  1  0.17498600  0.15239300  0.25732900  1\n",
      "\n"
     ]
    }
   ],
   "source": [
    "print(structure_cif2)"
   ]
  },
  {
   "cell_type": "code",
   "execution_count": 119,
   "id": "ba648a0c",
   "metadata": {},
   "outputs": [],
   "source": [
    "with open(\"{}.cif\".format(task_id), \"w\") as output:\n",
    "    output.write(structure_cif2)"
   ]
  },
  {
   "cell_type": "code",
   "execution_count": 120,
   "id": "4e99da8b",
   "metadata": {},
   "outputs": [
    {
     "data": {
      "application/vnd.jupyter.widget-view+json": {
       "model_id": "58dadaf9ad8e4f8f9d08e44aa78d0959",
       "version_major": 2,
       "version_minor": 0
      },
      "text/plain": [
       "NGLWidget()"
      ]
     },
     "metadata": {},
     "output_type": "display_data"
    }
   ],
   "source": [
    "view = nv.show_structure_file(\"{}.cif\".format(task_id))\n",
    "view"
   ]
  },
  {
   "cell_type": "code",
   "execution_count": null,
   "id": "e33e440f",
   "metadata": {},
   "outputs": [],
   "source": []
  }
 ],
 "metadata": {
  "kernelspec": {
   "display_name": "Python 3",
   "language": "python",
   "name": "python3"
  },
  "language_info": {
   "codemirror_mode": {
    "name": "ipython",
    "version": 3
   },
   "file_extension": ".py",
   "mimetype": "text/x-python",
   "name": "python",
   "nbconvert_exporter": "python",
   "pygments_lexer": "ipython3",
   "version": "3.8.8"
  }
 },
 "nbformat": 4,
 "nbformat_minor": 5
}
